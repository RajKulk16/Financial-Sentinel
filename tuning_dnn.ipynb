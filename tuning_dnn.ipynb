{
 "cells": [
  {
   "cell_type": "code",
   "execution_count": 1,
   "metadata": {},
   "outputs": [
    {
     "name": "stdout",
     "output_type": "stream",
     "text": [
      "True\n"
     ]
    }
   ],
   "source": [
    "import tensorflow as tf\n",
    "\n",
    "print(len(tf.config.list_physical_devices('GPU')) > 0)"
   ]
  },
  {
   "cell_type": "code",
   "execution_count": 2,
   "metadata": {},
   "outputs": [],
   "source": [
    "import warnings\n",
    "warnings.simplefilter('ignore')"
   ]
  },
  {
   "cell_type": "code",
   "execution_count": 3,
   "metadata": {},
   "outputs": [],
   "source": [
    "import pandas as pd\n",
    "import numpy as np\n",
    "import matplotlib.pyplot as plt\n",
    "import seaborn as sns\n",
    "from fast_ml.feature_selection import get_constant_features\n",
    "from imblearn.combine import SMOTETomek\n",
    "from collections import Counter\n",
    "from sklearn.compose import ColumnTransformer\n",
    "from sklearn.preprocessing import OneHotEncoder, StandardScaler, PowerTransformer\n",
    "from sklearn.model_selection import train_test_split, cross_val_score, StratifiedKFold, RandomizedSearchCV\n",
    "from sklearn.feature_extraction.text import HashingVectorizer\n",
    "import scipy.stats as stats\n",
    "\n",
    "from sklearn.linear_model import LogisticRegression\n",
    "from sklearn.metrics import classification_report, confusion_matrix, accuracy_score, roc_auc_score\n",
    "import xgboost\n",
    "\n",
    "from tensorflow.keras.models import Sequential\n",
    "from tensorflow.keras.layers import Dense, Dropout, BatchNormalization\n",
    "from tensorflow.keras.callbacks import EarlyStopping, ModelCheckpoint\n",
    "import keras_tuner as kt\n",
    "\n",
    "import pickle\n",
    "\n",
    "%matplotlib inline"
   ]
  },
  {
   "cell_type": "code",
   "execution_count": 6,
   "metadata": {},
   "outputs": [
    {
     "name": "stdout",
     "output_type": "stream",
     "text": [
      "(8895369, 14) (3812301, 14) (8895369, 1) (3812301, 1)\n"
     ]
    }
   ],
   "source": [
    "X_resampled = pd.read_csv('csv_balanced/X_resampled.csv')\n",
    "y_resampled = pd.read_csv('csv_balanced/y_resampled.csv')\n",
    "\n",
    "Xtrain, Xtest, ytrain, ytest = train_test_split(X_resampled, y_resampled, test_size=0.3, random_state=42)\n",
    "\n",
    "print(Xtrain.shape, Xtest.shape, ytrain.shape, ytest.shape)"
   ]
  },
  {
   "cell_type": "code",
   "execution_count": 7,
   "metadata": {},
   "outputs": [],
   "source": [
    "transformer = PowerTransformer(method = 'yeo-johnson', standardize=True)\n",
    "\n",
    "Xtrain_transformed = transformer.fit_transform(Xtrain)\n",
    "\n",
    "Xtest_transformed = transformer.transform(Xtest)"
   ]
  },
  {
   "cell_type": "code",
   "execution_count": 8,
   "metadata": {},
   "outputs": [],
   "source": [
    "Xtrain_transformed = pd.DataFrame(Xtrain_transformed, columns=Xtrain.columns)\n",
    "Xtest_transformed = pd.DataFrame(Xtest_transformed, columns=Xtest.columns)"
   ]
  },
  {
   "cell_type": "code",
   "execution_count": 24,
   "metadata": {},
   "outputs": [],
   "source": [
    "def build_model(hyperparameter):\n",
    "    model = Sequential()\n",
    "    counter = 0\n",
    "    \n",
    "    for i in range(hyperparameter.Int('num_layers',min_value = 1, max_value = 10)):\n",
    "        if i == 0:\n",
    "            model.add(Dense(\n",
    "                hyperparameter.Int('units' + str(i), min_value = 8, max_value = 256, step = 8),\n",
    "                hyperparameter.Choice('activation' + str(i), values = ['relu', 'selu', 'tanh', 'sigmoid']),\n",
    "                kernel_initializer = 'he_uniform', kernel_regularizer = 'l2',\n",
    "                input_dim = Xtrain_transformed.shape[1]\n",
    "            ))\n",
    "            counter += 1\n",
    "        else:\n",
    "            model.add(Dense(\n",
    "                hyperparameter.Int('units' + str(i), min_value = 8, max_value = 256, step = 8),\n",
    "                hyperparameter.Choice('activation' + str(i), values = ['relu', 'selu', 'tanh', 'sigmoid']),\n",
    "                kernel_initializer = 'he_uniform', kernel_regularizer = 'l2'\n",
    "            ))\n",
    "            model.add(Dropout(hyperparameter.Choice('dropout' + str(i), values=[0.1,0.2,0.3,0.4,0.5,0.6])))\n",
    "            model.add(BatchNormalization())\n",
    "            \n",
    "    model.add(Dense(1, activation='sigmoid'))\n",
    "    model.compile(hyperparameter.Choice(\n",
    "        'optimizer', values = ['adam', 'rmsprop', 'sgd', 'adadelta', 'adagrad']), \n",
    "                  loss='binary_crossentropy', metrics=['accuracy']\n",
    "                  )\n",
    "    return model"
   ]
  },
  {
   "cell_type": "code",
   "execution_count": 25,
   "metadata": {},
   "outputs": [],
   "source": [
    "tuner = kt.Hyperband(hypermodel = build_model, max_epochs = 1, objective = ['val_accuracy'], \n",
    "                     directory = 'DNN_Hyperband_Tuner', project_name = 'trial_02')"
   ]
  },
  {
   "cell_type": "code",
   "execution_count": 26,
   "metadata": {},
   "outputs": [
    {
     "name": "stdout",
     "output_type": "stream",
     "text": [
      "Trial 1 Complete [00h 07m 14s]\n",
      "multi_objective: -0.9938259720802307\n",
      "\n",
      "Best multi_objective So Far: -0.9938259720802307\n",
      "Total elapsed time: 00h 07m 14s\n"
     ]
    }
   ],
   "source": [
    "tuner.search(Xtrain_transformed[:1000000], ytrain[:1000000], epochs = 3, \n",
    "             validation_data = (Xtest_transformed[:1000000], ytest[:1000000]), validation_split=0.3)"
   ]
  },
  {
   "cell_type": "code",
   "execution_count": 27,
   "metadata": {},
   "outputs": [
    {
     "data": {
      "text/plain": [
       "{'num_layers': 4,\n",
       " 'units0': 48,\n",
       " 'activation0': 'relu',\n",
       " 'optimizer': 'rmsprop',\n",
       " 'tuner/epochs': 1,\n",
       " 'tuner/initial_epoch': 0,\n",
       " 'tuner/bracket': 0,\n",
       " 'tuner/round': 0,\n",
       " 'units1': 8,\n",
       " 'activation1': 'relu',\n",
       " 'dropout1': 0.1,\n",
       " 'units2': 8,\n",
       " 'activation2': 'relu',\n",
       " 'dropout2': 0.1,\n",
       " 'units3': 8,\n",
       " 'activation3': 'relu',\n",
       " 'dropout3': 0.1}"
      ]
     },
     "execution_count": 27,
     "metadata": {},
     "output_type": "execute_result"
    }
   ],
   "source": [
    "tuner.get_best_hyperparameters()[0].values"
   ]
  },
  {
   "cell_type": "code",
   "execution_count": 28,
   "metadata": {},
   "outputs": [
    {
     "name": "stdout",
     "output_type": "stream",
     "text": [
      "Model: \"sequential\"\n",
      "_________________________________________________________________\n",
      " Layer (type)                Output Shape              Param #   \n",
      "=================================================================\n",
      " dense (Dense)               (None, 48)                720       \n",
      "                                                                 \n",
      " dense_1 (Dense)             (None, 8)                 392       \n",
      "                                                                 \n",
      " dropout (Dropout)           (None, 8)                 0         \n",
      "                                                                 \n",
      " batch_normalization (BatchN  (None, 8)                32        \n",
      " ormalization)                                                   \n",
      "                                                                 \n",
      " dense_2 (Dense)             (None, 8)                 72        \n",
      "                                                                 \n",
      " dropout_1 (Dropout)         (None, 8)                 0         \n",
      "                                                                 \n",
      " batch_normalization_1 (Batc  (None, 8)                32        \n",
      " hNormalization)                                                 \n",
      "                                                                 \n",
      " dense_3 (Dense)             (None, 8)                 72        \n",
      "                                                                 \n",
      " dropout_2 (Dropout)         (None, 8)                 0         \n",
      "                                                                 \n",
      " batch_normalization_2 (Batc  (None, 8)                32        \n",
      " hNormalization)                                                 \n",
      "                                                                 \n",
      " dense_4 (Dense)             (None, 1)                 9         \n",
      "                                                                 \n",
      "=================================================================\n",
      "Total params: 1,361\n",
      "Trainable params: 1,313\n",
      "Non-trainable params: 48\n",
      "_________________________________________________________________\n"
     ]
    }
   ],
   "source": [
    "tuned_model = tuner.get_best_models()[0]\n",
    "tuned_model.summary()"
   ]
  },
  {
   "cell_type": "code",
   "execution_count": 29,
   "metadata": {},
   "outputs": [],
   "source": [
    "early_stopping = EarlyStopping(monitor='val_accuracy',\n",
    "    min_delta=0.003,\n",
    "    patience=5,\n",
    "    verbose=0,\n",
    "    mode='auto',\n",
    "    baseline=None,\n",
    "    restore_best_weights=True,)\n",
    "\n",
    "tuned_dl_model_checkpoint = ModelCheckpoint('tuned_dnn.h5', monitor='val_accuracy', mode='auto', \n",
    "                                            verbose=1, save_best_only=True)"
   ]
  },
  {
   "cell_type": "code",
   "execution_count": 30,
   "metadata": {},
   "outputs": [],
   "source": [
    "tuned_model.compile(optimizer='adam', loss='binary_crossentropy', metrics=['accuracy'])"
   ]
  },
  {
   "cell_type": "code",
   "execution_count": 31,
   "metadata": {},
   "outputs": [
    {
     "name": "stdout",
     "output_type": "stream",
     "text": [
      "Epoch 1/50\n",
      "31250/31250 [==============================] - ETA: 0s - loss: 0.0512 - accuracy: 0.9911\n",
      "Epoch 1: val_accuracy improved from -inf to 0.99334, saving model to tuned_dnn.h5\n",
      "31250/31250 [==============================] - 442s 14ms/step - loss: 0.0512 - accuracy: 0.9911 - val_loss: 0.0346 - val_accuracy: 0.9933\n",
      "Epoch 2/50\n",
      "31248/31250 [============================>.] - ETA: 0s - loss: 0.0487 - accuracy: 0.9916\n",
      "Epoch 2: val_accuracy improved from 0.99334 to 0.99422, saving model to tuned_dnn.h5\n",
      "31250/31250 [==============================] - 451s 14ms/step - loss: 0.0487 - accuracy: 0.9916 - val_loss: 0.0345 - val_accuracy: 0.9942\n",
      "Epoch 3/50\n",
      "31246/31250 [============================>.] - ETA: 0s - loss: 0.0485 - accuracy: 0.9918\n",
      "Epoch 3: val_accuracy did not improve from 0.99422\n",
      "31250/31250 [==============================] - 426s 14ms/step - loss: 0.0485 - accuracy: 0.9918 - val_loss: 0.0374 - val_accuracy: 0.9935\n",
      "Epoch 4/50\n",
      "31249/31250 [============================>.] - ETA: 0s - loss: 0.0487 - accuracy: 0.9918\n",
      "Epoch 4: val_accuracy improved from 0.99422 to 0.99437, saving model to tuned_dnn.h5\n",
      "31250/31250 [==============================] - 414s 13ms/step - loss: 0.0487 - accuracy: 0.9918 - val_loss: 0.0344 - val_accuracy: 0.9944\n",
      "Epoch 5/50\n",
      "31246/31250 [============================>.] - ETA: 0s - loss: 0.0485 - accuracy: 0.9919\n",
      "Epoch 5: val_accuracy did not improve from 0.99437\n",
      "31250/31250 [==============================] - 428s 14ms/step - loss: 0.0485 - accuracy: 0.9919 - val_loss: 0.0367 - val_accuracy: 0.9938\n",
      "Epoch 6/50\n",
      "31250/31250 [==============================] - ETA: 0s - loss: 0.0487 - accuracy: 0.9918\n",
      "Epoch 6: val_accuracy did not improve from 0.99437\n",
      "31250/31250 [==============================] - 418s 13ms/step - loss: 0.0487 - accuracy: 0.9918 - val_loss: 0.0369 - val_accuracy: 0.9939\n"
     ]
    }
   ],
   "source": [
    "tuned_history = tuned_model.fit(Xtrain_transformed[:1000000], ytrain[:1000000], batch_size=32, epochs=50, \n",
    "                    validation_data=(Xtest_transformed[:1000000], ytest[:1000000]),\n",
    "                    validation_split=0.2,\n",
    "                    callbacks=[early_stopping, tuned_dl_model_checkpoint])"
   ]
  },
  {
   "cell_type": "code",
   "execution_count": 35,
   "metadata": {},
   "outputs": [
    {
     "data": {
      "image/png": "[encoded data removed]",
      "text/plain": [
       "<Figure size 300x300 with 1 Axes>"
      ]
     },
     "metadata": {},
     "output_type": "display_data"
    }
   ],
   "source": [
    "plt.figure(figsize=(3,3))\n",
    "\n",
    "plt.plot(tuned_history.history['val_accuracy'], color='blue', label='Validation Accuracy')\n",
    "plt.plot(tuned_history.history['accuracy'], color='orange', label='Training Accuracy')\n",
    "\n",
    "plt.xlabel('Epoch')\n",
    "plt.ylabel('Accuracy')\n",
    "plt.title('Training and Validation Accuracy')\n",
    "\n",
    "plt.legend()\n",
    "\n",
    "plt.show()"
   ]
  },
  {
   "cell_type": "code",
   "execution_count": 36,
   "metadata": {},
   "outputs": [
    {
     "data": {
      "image/png": "[encoded data removed]",
      "text/plain": [
       "<Figure size 300x300 with 1 Axes>"
      ]
     },
     "metadata": {},
     "output_type": "display_data"
    }
   ],
   "source": [
    "plt.figure(figsize=(3,3))\n",
    "\n",
    "plt.plot(tuned_history.history['val_loss'], color='blue', label='Validation Accuracy')\n",
    "plt.plot(tuned_history.history['loss'], color='orange', label='Training Accuracy')\n",
    "\n",
    "plt.xlabel('Epoch')\n",
    "plt.ylabel('Accuracy')\n",
    "plt.title('Training and Validation Loss')\n",
    "\n",
    "plt.legend()\n",
    "\n",
    "plt.show()"
   ]
  },
  {
   "cell_type": "code",
   "execution_count": 37,
   "metadata": {},
   "outputs": [
    {
     "name": "stdout",
     "output_type": "stream",
     "text": [
      "15625/15625 [==============================] - 35s 2ms/step\n",
      "Accuracy = 0.993434\n"
     ]
    }
   ],
   "source": [
    "## Checking the metrics for this model\n",
    "\n",
    "y_pred = tuned_model.predict(Xtest_transformed[1000000:1500000])\n",
    "\n",
    "y_pred = (y_pred > 0.5).astype(int) # converting the probabilities to 0 and 1\n",
    "\n",
    "accuracy = accuracy_score(ytest[1000000:1500000], y_pred)\n",
    "\n",
    "print(\"Accuracy = {}\".format(accuracy))\n"
   ]
  },
  {
   "cell_type": "code",
   "execution_count": 38,
   "metadata": {},
   "outputs": [
    {
     "name": "stdout",
     "output_type": "stream",
     "text": [
      "              precision    recall  f1-score   support\n",
      "\n",
      "           0       1.00      0.99      0.99    250228\n",
      "           1       0.99      1.00      0.99    249772\n",
      "\n",
      "    accuracy                           0.99    500000\n",
      "   macro avg       0.99      0.99      0.99    500000\n",
      "weighted avg       0.99      0.99      0.99    500000\n",
      "\n"
     ]
    }
   ],
   "source": [
    "print(classification_report(ytest[1000000:1500000], y_pred))"
   ]
  },
  {
   "cell_type": "code",
   "execution_count": 39,
   "metadata": {},
   "outputs": [
    {
     "data": {
      "text/plain": [
       "array([[247713,   2515],\n",
       "       [   768, 249004]], dtype=int64)"
      ]
     },
     "execution_count": 39,
     "metadata": {},
     "output_type": "execute_result"
    }
   ],
   "source": [
    "confusion_matrix(ytest[1000000:1500000], y_pred)"
   ]
  },
  {
   "cell_type": "markdown",
   "metadata": {},
   "source": [
    "### Contrast with Untuned DNN Model - - \n",
    "\n",
    "- The tuned DNN exhibits a False Negative (FN) count of 768, compared to the DNN model's count of 922.\n",
    "- This reduction is notably substantial, providing increased reliability for the current business model."
   ]
  }
 ],
 "metadata": {
  "kernelspec": {
   "display_name": "Python 3",
   "language": "python",
   "name": "python3"
  },
  "language_info": {
   "codemirror_mode": {
    "name": "ipython",
    "version": 3
   },
   "file_extension": ".py",
   "mimetype": "text/x-python",
   "name": "python",
   "nbconvert_exporter": "python",
   "pygments_lexer": "ipython3",
   "version": "3.10.0"
  }
 },
 "nbformat": 4,
 "nbformat_minor": 2
}
